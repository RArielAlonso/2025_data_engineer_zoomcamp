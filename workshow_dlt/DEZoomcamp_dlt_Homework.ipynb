{
  "cells": [
    {
      "cell_type": "markdown",
      "metadata": {
        "id": "EFPjhhB5VXd9"
      },
      "source": [
        "# **Workshop \"Data Ingestion with dlt\": Homework**\n"
      ]
    },
    {
      "cell_type": "markdown",
      "metadata": {
        "id": "a0V54cILVjfy"
      },
      "source": [
        "---\n",
        "\n",
        "## **Dataset & API**\n",
        "\n",
        "We’ll use **NYC Taxi data** via the same custom API from the workshop:\n",
        "\n",
        "🔹 **Base API URL:**  \n",
        "```\n",
        "https://us-central1-dlthub-analytics.cloudfunctions.net/data_engineering_zoomcamp_api\n",
        "```\n",
        "🔹 **Data format:** Paginated JSON (1,000 records per page).  \n",
        "🔹 **API Pagination:** Stop when an empty page is returned.  "
      ]
    },
    {
      "cell_type": "markdown",
      "metadata": {
        "id": "pNq2oqruVtiQ"
      },
      "source": [
        "## **Question 1: dlt Version**\n",
        "\n",
        "1. **Install dlt**:"
      ]
    },
    {
      "cell_type": "code",
      "execution_count": 1,
      "metadata": {
        "id": "9yTfzUkZVwYi"
      },
      "outputs": [
        {
          "name": "stdout",
          "output_type": "stream",
          "text": [
            "Requirement already satisfied: dlt[duckdb] in /home/ariel/2025_data_engineer_zoomcamp/2025_data_engineer_zoomcamp/.venv/lib/python3.9/site-packages (1.6.1)\n",
            "Requirement already satisfied: PyYAML>=5.4.1 in /home/ariel/2025_data_engineer_zoomcamp/2025_data_engineer_zoomcamp/.venv/lib/python3.9/site-packages (from dlt[duckdb]) (6.0.2)\n",
            "Requirement already satisfied: click>=7.1 in /home/ariel/2025_data_engineer_zoomcamp/2025_data_engineer_zoomcamp/.venv/lib/python3.9/site-packages (from dlt[duckdb]) (8.1.8)\n",
            "Requirement already satisfied: fsspec>=2022.4.0 in /home/ariel/2025_data_engineer_zoomcamp/2025_data_engineer_zoomcamp/.venv/lib/python3.9/site-packages (from dlt[duckdb]) (2025.2.0)\n",
            "Requirement already satisfied: gitpython>=3.1.29 in /home/ariel/2025_data_engineer_zoomcamp/2025_data_engineer_zoomcamp/.venv/lib/python3.9/site-packages (from dlt[duckdb]) (3.1.44)\n",
            "Requirement already satisfied: giturlparse>=0.10.0 in /home/ariel/2025_data_engineer_zoomcamp/2025_data_engineer_zoomcamp/.venv/lib/python3.9/site-packages (from dlt[duckdb]) (0.12.0)\n",
            "Requirement already satisfied: hexbytes>=0.2.2 in /home/ariel/2025_data_engineer_zoomcamp/2025_data_engineer_zoomcamp/.venv/lib/python3.9/site-packages (from dlt[duckdb]) (1.3.0)\n",
            "Requirement already satisfied: humanize>=4.4.0 in /home/ariel/2025_data_engineer_zoomcamp/2025_data_engineer_zoomcamp/.venv/lib/python3.9/site-packages (from dlt[duckdb]) (4.12.0)\n",
            "Requirement already satisfied: jsonpath-ng>=1.5.3 in /home/ariel/2025_data_engineer_zoomcamp/2025_data_engineer_zoomcamp/.venv/lib/python3.9/site-packages (from dlt[duckdb]) (1.7.0)\n",
            "Requirement already satisfied: makefun>=1.15.0 in /home/ariel/2025_data_engineer_zoomcamp/2025_data_engineer_zoomcamp/.venv/lib/python3.9/site-packages (from dlt[duckdb]) (1.15.6)\n",
            "Requirement already satisfied: orjson!=3.10.1,!=3.9.11,!=3.9.12,!=3.9.13,!=3.9.14,<4,>=3.6.7 in /home/ariel/2025_data_engineer_zoomcamp/2025_data_engineer_zoomcamp/.venv/lib/python3.9/site-packages (from dlt[duckdb]) (3.10.15)\n",
            "Requirement already satisfied: packaging>=21.1 in /home/ariel/2025_data_engineer_zoomcamp/2025_data_engineer_zoomcamp/.venv/lib/python3.9/site-packages (from dlt[duckdb]) (24.2)\n",
            "Requirement already satisfied: pathvalidate>=2.5.2 in /home/ariel/2025_data_engineer_zoomcamp/2025_data_engineer_zoomcamp/.venv/lib/python3.9/site-packages (from dlt[duckdb]) (3.2.3)\n",
            "Requirement already satisfied: pendulum>=2.1.2 in /home/ariel/2025_data_engineer_zoomcamp/2025_data_engineer_zoomcamp/.venv/lib/python3.9/site-packages (from dlt[duckdb]) (3.0.0)\n",
            "Requirement already satisfied: pluggy>=1.3.0 in /home/ariel/2025_data_engineer_zoomcamp/2025_data_engineer_zoomcamp/.venv/lib/python3.9/site-packages (from dlt[duckdb]) (1.5.0)\n",
            "Requirement already satisfied: pytz>=2022.6 in /home/ariel/2025_data_engineer_zoomcamp/2025_data_engineer_zoomcamp/.venv/lib/python3.9/site-packages (from dlt[duckdb]) (2025.1)\n",
            "Requirement already satisfied: requests>=2.26.0 in /home/ariel/2025_data_engineer_zoomcamp/2025_data_engineer_zoomcamp/.venv/lib/python3.9/site-packages (from dlt[duckdb]) (2.32.3)\n",
            "Requirement already satisfied: requirements-parser>=0.5.0 in /home/ariel/2025_data_engineer_zoomcamp/2025_data_engineer_zoomcamp/.venv/lib/python3.9/site-packages (from dlt[duckdb]) (0.11.0)\n",
            "Requirement already satisfied: rich-argparse<2.0.0,>=1.6.0 in /home/ariel/2025_data_engineer_zoomcamp/2025_data_engineer_zoomcamp/.venv/lib/python3.9/site-packages (from dlt[duckdb]) (1.7.0)\n",
            "Requirement already satisfied: semver>=3.0.0 in /home/ariel/2025_data_engineer_zoomcamp/2025_data_engineer_zoomcamp/.venv/lib/python3.9/site-packages (from dlt[duckdb]) (3.0.4)\n",
            "Requirement already satisfied: setuptools>=65.6.0 in /home/ariel/2025_data_engineer_zoomcamp/2025_data_engineer_zoomcamp/.venv/lib/python3.9/site-packages (from dlt[duckdb]) (69.5.1)\n",
            "Requirement already satisfied: simplejson>=3.17.5 in /home/ariel/2025_data_engineer_zoomcamp/2025_data_engineer_zoomcamp/.venv/lib/python3.9/site-packages (from dlt[duckdb]) (3.19.3)\n",
            "Requirement already satisfied: tenacity>=8.0.2 in /home/ariel/2025_data_engineer_zoomcamp/2025_data_engineer_zoomcamp/.venv/lib/python3.9/site-packages (from dlt[duckdb]) (9.0.0)\n",
            "Requirement already satisfied: tomlkit>=0.11.3 in /home/ariel/2025_data_engineer_zoomcamp/2025_data_engineer_zoomcamp/.venv/lib/python3.9/site-packages (from dlt[duckdb]) (0.13.2)\n",
            "Requirement already satisfied: typing-extensions>=4.8.0 in /home/ariel/2025_data_engineer_zoomcamp/2025_data_engineer_zoomcamp/.venv/lib/python3.9/site-packages (from dlt[duckdb]) (4.12.2)\n",
            "Requirement already satisfied: tzdata>=2022.1 in /home/ariel/2025_data_engineer_zoomcamp/2025_data_engineer_zoomcamp/.venv/lib/python3.9/site-packages (from dlt[duckdb]) (2025.1)\n",
            "Requirement already satisfied: duckdb>=0.9 in /home/ariel/2025_data_engineer_zoomcamp/2025_data_engineer_zoomcamp/.venv/lib/python3.9/site-packages (from dlt[duckdb]) (1.2.0)\n",
            "Requirement already satisfied: gitdb<5,>=4.0.1 in /home/ariel/2025_data_engineer_zoomcamp/2025_data_engineer_zoomcamp/.venv/lib/python3.9/site-packages (from gitpython>=3.1.29->dlt[duckdb]) (4.0.12)\n",
            "Requirement already satisfied: ply in /home/ariel/2025_data_engineer_zoomcamp/2025_data_engineer_zoomcamp/.venv/lib/python3.9/site-packages (from jsonpath-ng>=1.5.3->dlt[duckdb]) (3.11)\n",
            "Requirement already satisfied: python-dateutil>=2.6 in /home/ariel/2025_data_engineer_zoomcamp/2025_data_engineer_zoomcamp/.venv/lib/python3.9/site-packages (from pendulum>=2.1.2->dlt[duckdb]) (2.9.0.post0)\n",
            "Requirement already satisfied: time-machine>=2.6.0 in /home/ariel/2025_data_engineer_zoomcamp/2025_data_engineer_zoomcamp/.venv/lib/python3.9/site-packages (from pendulum>=2.1.2->dlt[duckdb]) (2.16.0)\n",
            "Requirement already satisfied: charset-normalizer<4,>=2 in /home/ariel/2025_data_engineer_zoomcamp/2025_data_engineer_zoomcamp/.venv/lib/python3.9/site-packages (from requests>=2.26.0->dlt[duckdb]) (3.4.1)\n",
            "Requirement already satisfied: idna<4,>=2.5 in /home/ariel/2025_data_engineer_zoomcamp/2025_data_engineer_zoomcamp/.venv/lib/python3.9/site-packages (from requests>=2.26.0->dlt[duckdb]) (3.10)\n",
            "Requirement already satisfied: urllib3<3,>=1.21.1 in /home/ariel/2025_data_engineer_zoomcamp/2025_data_engineer_zoomcamp/.venv/lib/python3.9/site-packages (from requests>=2.26.0->dlt[duckdb]) (2.3.0)\n",
            "Requirement already satisfied: certifi>=2017.4.17 in /home/ariel/2025_data_engineer_zoomcamp/2025_data_engineer_zoomcamp/.venv/lib/python3.9/site-packages (from requests>=2.26.0->dlt[duckdb]) (2025.1.31)\n",
            "Requirement already satisfied: types-setuptools>=69.1.0 in /home/ariel/2025_data_engineer_zoomcamp/2025_data_engineer_zoomcamp/.venv/lib/python3.9/site-packages (from requirements-parser>=0.5.0->dlt[duckdb]) (75.8.0.20250210)\n",
            "Requirement already satisfied: rich>=11.0.0 in /home/ariel/2025_data_engineer_zoomcamp/2025_data_engineer_zoomcamp/.venv/lib/python3.9/site-packages (from rich-argparse<2.0.0,>=1.6.0->dlt[duckdb]) (13.9.4)\n",
            "Requirement already satisfied: smmap<6,>=3.0.1 in /home/ariel/2025_data_engineer_zoomcamp/2025_data_engineer_zoomcamp/.venv/lib/python3.9/site-packages (from gitdb<5,>=4.0.1->gitpython>=3.1.29->dlt[duckdb]) (5.0.2)\n",
            "Requirement already satisfied: six>=1.5 in /home/ariel/2025_data_engineer_zoomcamp/2025_data_engineer_zoomcamp/.venv/lib/python3.9/site-packages (from python-dateutil>=2.6->pendulum>=2.1.2->dlt[duckdb]) (1.17.0)\n",
            "Requirement already satisfied: markdown-it-py>=2.2.0 in /home/ariel/2025_data_engineer_zoomcamp/2025_data_engineer_zoomcamp/.venv/lib/python3.9/site-packages (from rich>=11.0.0->rich-argparse<2.0.0,>=1.6.0->dlt[duckdb]) (3.0.0)\n",
            "Requirement already satisfied: pygments<3.0.0,>=2.13.0 in /home/ariel/2025_data_engineer_zoomcamp/2025_data_engineer_zoomcamp/.venv/lib/python3.9/site-packages (from rich>=11.0.0->rich-argparse<2.0.0,>=1.6.0->dlt[duckdb]) (2.19.1)\n",
            "Requirement already satisfied: mdurl~=0.1 in /home/ariel/2025_data_engineer_zoomcamp/2025_data_engineer_zoomcamp/.venv/lib/python3.9/site-packages (from markdown-it-py>=2.2.0->rich>=11.0.0->rich-argparse<2.0.0,>=1.6.0->dlt[duckdb]) (0.1.2)\n",
            "\n",
            "\u001b[1m[\u001b[0m\u001b[34;49mnotice\u001b[0m\u001b[1;39;49m]\u001b[0m\u001b[39;49m A new release of pip is available: \u001b[0m\u001b[31;49m24.0\u001b[0m\u001b[39;49m -> \u001b[0m\u001b[32;49m25.0.1\u001b[0m\n",
            "\u001b[1m[\u001b[0m\u001b[34;49mnotice\u001b[0m\u001b[1;39;49m]\u001b[0m\u001b[39;49m To update, run: \u001b[0m\u001b[32;49mpip install --upgrade pip\u001b[0m\n"
          ]
        }
      ],
      "source": [
        " !pip install dlt[duckdb]"
      ]
    },
    {
      "cell_type": "markdown",
      "metadata": {
        "id": "Xv9gkwKIV3wM"
      },
      "source": [
        "> Or choose a different bracket—`bigquery`, `redshift`, etc.—if you prefer another primary destination. For this assignment, we’ll still do a quick test with DuckDB.\n",
        "\n",
        "2. **Check** the version:\n"
      ]
    },
    {
      "cell_type": "code",
      "execution_count": 2,
      "metadata": {
        "id": "scFCGjeMWCkI"
      },
      "outputs": [
        {
          "name": "stdout",
          "output_type": "stream",
          "text": [
            "\u001b[39mdlt 1.6.1\u001b[0m\n"
          ]
        }
      ],
      "source": [
        "!dlt --version"
      ]
    },
    {
      "cell_type": "markdown",
      "metadata": {
        "id": "Z-YrUxR8WFNw"
      },
      "source": [
        "or:"
      ]
    },
    {
      "cell_type": "code",
      "execution_count": 3,
      "metadata": {
        "id": "SSm1xDzPV5dO"
      },
      "outputs": [
        {
          "name": "stdout",
          "output_type": "stream",
          "text": [
            "dlt version: 1.6.1\n"
          ]
        }
      ],
      "source": [
        "import dlt\n",
        "print(\"dlt version:\", dlt.__version__)"
      ]
    },
    {
      "cell_type": "markdown",
      "metadata": {
        "id": "f0Z3F5s4WaXO"
      },
      "source": [
        "**Answer**:  \n",
        "- Provide the **version** you see in the output."
      ]
    },
    {
      "cell_type": "markdown",
      "metadata": {
        "id": "M02IXn-GWdBO"
      },
      "source": [
        "## **Question 2: Define & Run the Pipeline (NYC Taxi API)**\n",
        "\n",
        "Use dlt to extract all pages of data from the API.\n",
        "\n",
        "Steps:\n",
        "\n",
        "1️⃣ Use the `@dlt.resource` decorator to define the API source.\n",
        "\n",
        "2️⃣ Implement automatic pagination using dlt's built-in REST client.\n",
        "\n",
        "3️⃣ Load the extracted data into DuckDB for querying.\n",
        "\n"
      ]
    },
    {
      "cell_type": "code",
      "execution_count": 4,
      "metadata": {
        "id": "8ChhfBNUWshT"
      },
      "outputs": [],
      "source": [
        "import dlt\n",
        "from dlt.sources.helpers.rest_client import RESTClient\n",
        "from dlt.sources.helpers.rest_client.paginators import PageNumberPaginator\n",
        "\n",
        "\n",
        "@dlt.resource(name=\"rides\", write_disposition=\"replace\")\n",
        "def ny_taxi():\n",
        "    client = RESTClient(\n",
        "        base_url=\"https://us-central1-dlthub-analytics.cloudfunctions.net\",\n",
        "        paginator=PageNumberPaginator(\n",
        "            base_page=1,\n",
        "            total_path=None\n",
        "        )\n",
        "    )\n",
        "\n",
        "    for page in client.paginate(\"data_engineering_zoomcamp_api\"):\n",
        "        yield page\n",
        "\n",
        "\n",
        "pipeline = dlt.pipeline(\n",
        "    pipeline_name=\"ny_taxi_pipeline\",\n",
        "    destination=\"duckdb\",\n",
        "    dataset_name=\"ny_taxi_data\"\n",
        ")"
      ]
    },
    {
      "cell_type": "markdown",
      "metadata": {
        "id": "Y64a4o7qXGzH"
      },
      "source": [
        "Load the data into DuckDB to test:\n",
        "\n",
        "\n",
        "\n",
        "\n"
      ]
    },
    {
      "cell_type": "code",
      "execution_count": 5,
      "metadata": {
        "id": "emXcAQN2XIYk"
      },
      "outputs": [
        {
          "name": "stdout",
          "output_type": "stream",
          "text": [
            "Pipeline ny_taxi_pipeline load step completed in 1.09 seconds\n",
            "1 load package(s) were loaded to destination duckdb and into dataset ny_taxi_data\n",
            "The duckdb destination used duckdb:////home/ariel/2025_data_engineer_zoomcamp/2025_data_engineer_zoomcamp/workshow_dlt/ny_taxi_pipeline.duckdb location to store data\n",
            "Load package 1739556953.9044628 is LOADED and contains no failed jobs\n"
          ]
        }
      ],
      "source": [
        "load_info = pipeline.run(ny_taxi)\n",
        "print(load_info)"
      ]
    },
    {
      "cell_type": "markdown",
      "metadata": {
        "id": "VfFtRuJLeTJZ"
      },
      "source": [
        "Start a connection to your database using native `duckdb` connection and look what tables were generated:"
      ]
    },
    {
      "cell_type": "code",
      "execution_count": 8,
      "metadata": {
        "id": "bmOjtD-Xeq3K"
      },
      "outputs": [
        {
          "data": {
            "text/html": [
              "<div>\n",
              "<style scoped>\n",
              "    .dataframe tbody tr th:only-of-type {\n",
              "        vertical-align: middle;\n",
              "    }\n",
              "\n",
              "    .dataframe tbody tr th {\n",
              "        vertical-align: top;\n",
              "    }\n",
              "\n",
              "    .dataframe thead th {\n",
              "        text-align: right;\n",
              "    }\n",
              "</style>\n",
              "<table border=\"1\" class=\"dataframe\">\n",
              "  <thead>\n",
              "    <tr style=\"text-align: right;\">\n",
              "      <th></th>\n",
              "      <th>database</th>\n",
              "      <th>schema</th>\n",
              "      <th>name</th>\n",
              "      <th>column_names</th>\n",
              "      <th>column_types</th>\n",
              "      <th>temporary</th>\n",
              "    </tr>\n",
              "  </thead>\n",
              "  <tbody>\n",
              "    <tr>\n",
              "      <th>0</th>\n",
              "      <td>ny_taxi_pipeline</td>\n",
              "      <td>ny_taxi_data</td>\n",
              "      <td>_dlt_loads</td>\n",
              "      <td>[load_id, schema_name, status, inserted_at, sc...</td>\n",
              "      <td>[VARCHAR, VARCHAR, BIGINT, TIMESTAMP WITH TIME...</td>\n",
              "      <td>False</td>\n",
              "    </tr>\n",
              "    <tr>\n",
              "      <th>1</th>\n",
              "      <td>ny_taxi_pipeline</td>\n",
              "      <td>ny_taxi_data</td>\n",
              "      <td>_dlt_pipeline_state</td>\n",
              "      <td>[version, engine_version, pipeline_name, state...</td>\n",
              "      <td>[BIGINT, BIGINT, VARCHAR, VARCHAR, TIMESTAMP W...</td>\n",
              "      <td>False</td>\n",
              "    </tr>\n",
              "    <tr>\n",
              "      <th>2</th>\n",
              "      <td>ny_taxi_pipeline</td>\n",
              "      <td>ny_taxi_data</td>\n",
              "      <td>_dlt_version</td>\n",
              "      <td>[version, engine_version, inserted_at, schema_...</td>\n",
              "      <td>[BIGINT, BIGINT, TIMESTAMP WITH TIME ZONE, VAR...</td>\n",
              "      <td>False</td>\n",
              "    </tr>\n",
              "    <tr>\n",
              "      <th>3</th>\n",
              "      <td>ny_taxi_pipeline</td>\n",
              "      <td>ny_taxi_data</td>\n",
              "      <td>rides</td>\n",
              "      <td>[end_lat, end_lon, fare_amt, passenger_count, ...</td>\n",
              "      <td>[DOUBLE, DOUBLE, DOUBLE, BIGINT, VARCHAR, DOUB...</td>\n",
              "      <td>False</td>\n",
              "    </tr>\n",
              "  </tbody>\n",
              "</table>\n",
              "</div>"
            ],
            "text/plain": [
              "           database        schema                 name  \\\n",
              "0  ny_taxi_pipeline  ny_taxi_data           _dlt_loads   \n",
              "1  ny_taxi_pipeline  ny_taxi_data  _dlt_pipeline_state   \n",
              "2  ny_taxi_pipeline  ny_taxi_data         _dlt_version   \n",
              "3  ny_taxi_pipeline  ny_taxi_data                rides   \n",
              "\n",
              "                                        column_names  \\\n",
              "0  [load_id, schema_name, status, inserted_at, sc...   \n",
              "1  [version, engine_version, pipeline_name, state...   \n",
              "2  [version, engine_version, inserted_at, schema_...   \n",
              "3  [end_lat, end_lon, fare_amt, passenger_count, ...   \n",
              "\n",
              "                                        column_types  temporary  \n",
              "0  [VARCHAR, VARCHAR, BIGINT, TIMESTAMP WITH TIME...      False  \n",
              "1  [BIGINT, BIGINT, VARCHAR, VARCHAR, TIMESTAMP W...      False  \n",
              "2  [BIGINT, BIGINT, TIMESTAMP WITH TIME ZONE, VAR...      False  \n",
              "3  [DOUBLE, DOUBLE, DOUBLE, BIGINT, VARCHAR, DOUB...      False  "
            ]
          },
          "execution_count": 8,
          "metadata": {},
          "output_type": "execute_result"
        }
      ],
      "source": [
        "import duckdb\n",
        "\n",
        "# A database '<pipeline_name>.duckdb' was created in working directory so just connect to it\n",
        "\n",
        "# Connect to the DuckDB database\n",
        "conn = duckdb.connect(f\"{pipeline.pipeline_name}.duckdb\")\n",
        "\n",
        "# Set search path to the dataset\n",
        "conn.sql(f\"SET search_path = '{pipeline.dataset_name}'\")\n",
        "\n",
        "# Describe the dataset\n",
        "conn.sql(\"DESCRIBE\").df()"
      ]
    },
    {
      "cell_type": "markdown",
      "metadata": {
        "id": "lmfI_zjoeIrf"
      },
      "source": [
        "**Answer:**\n",
        "* How many tables were created?"
      ]
    },
    {
      "cell_type": "markdown",
      "metadata": {
        "id": "LLuS9O63f-fv"
      },
      "source": [
        "## **Question 3: Explore the loaded data**"
      ]
    },
    {
      "cell_type": "markdown",
      "metadata": {
        "id": "d_cWQaQjXLn8"
      },
      "source": [
        "Inspect the table `ride`:\n"
      ]
    },
    {
      "cell_type": "code",
      "execution_count": 9,
      "metadata": {
        "id": "lvpYmnhkXKLZ"
      },
      "outputs": [],
      "source": [
        "df = pipeline.dataset(dataset_type=\"default\").rides.df()\n"
      ]
    },
    {
      "cell_type": "code",
      "execution_count": 10,
      "metadata": {},
      "outputs": [
        {
          "data": {
            "text/plain": [
              "(10000, 18)"
            ]
          },
          "execution_count": 10,
          "metadata": {},
          "output_type": "execute_result"
        }
      ],
      "source": [
        "df.shape"
      ]
    },
    {
      "cell_type": "markdown",
      "metadata": {
        "id": "OZEvd9TcgEst"
      },
      "source": [
        "**Answer:**\n",
        "* What is the total number of records extracted?"
      ]
    },
    {
      "cell_type": "markdown",
      "metadata": {
        "id": "joyAEvNae6Ds"
      },
      "source": [
        "## **Question 4: Trip Duration Analysis**\n",
        "\n",
        "Run the SQL query below to:\n",
        "\n",
        "* Calculate the average trip duration in minutes."
      ]
    },
    {
      "cell_type": "code",
      "execution_count": null,
      "metadata": {
        "id": "BtsSxtFfXQs3"
      },
      "outputs": [],
      "source": [
        "with pipeline.sql_client() as client:\n",
        "    res = client.execute_sql(\n",
        "            \"\"\"\n",
        "            SELECT\n",
        "            AVG(date_diff('minute', trip_pickup_date_time, trip_dropoff_date_time))\n",
        "            FROM rides;\n",
        "            \"\"\"\n",
        "        )\n",
        "    # Prints column values of the first row\n",
        "    print(res)"
      ]
    },
    {
      "cell_type": "markdown",
      "metadata": {
        "id": "YTIydWT0dTf9"
      },
      "source": [
        "**Answer:**\n",
        "* What is the average trip duration?"
      ]
    },
    {
      "cell_type": "markdown",
      "metadata": {
        "id": "kEFQZKB0gkCI"
      },
      "source": [
        "## **Submitting the solutions**\n",
        "\n",
        "* Form for submitting: TBA\n",
        "\n",
        "\n"
      ]
    },
    {
      "cell_type": "markdown",
      "metadata": {
        "id": "cPrgwE3ziNan"
      },
      "source": [
        "## **Solution**\n",
        "\n",
        "We will publish the solution here after deadline."
      ]
    }
  ],
  "metadata": {
    "colab": {
      "provenance": [],
      "toc_visible": true
    },
    "kernelspec": {
      "display_name": ".venv",
      "language": "python",
      "name": "python3"
    },
    "language_info": {
      "codemirror_mode": {
        "name": "ipython",
        "version": 3
      },
      "file_extension": ".py",
      "mimetype": "text/x-python",
      "name": "python",
      "nbconvert_exporter": "python",
      "pygments_lexer": "ipython3",
      "version": "3.9.5"
    }
  },
  "nbformat": 4,
  "nbformat_minor": 0
}
